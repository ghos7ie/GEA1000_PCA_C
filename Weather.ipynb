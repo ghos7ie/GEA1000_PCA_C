{
 "cells": [
  {
   "cell_type": "code",
   "execution_count": 4,
   "id": "2f87bc3f-fba5-4773-8f80-e944e8fb3414",
   "metadata": {},
   "outputs": [],
   "source": [
    "import pandas as pd"
   ]
  },
  {
   "cell_type": "markdown",
   "id": "3f9663c4-ca0e-452d-b81c-647f90fe02c4",
   "metadata": {},
   "source": [
    "# READ data"
   ]
  },
  {
   "cell_type": "code",
   "execution_count": 32,
   "id": "0b43fe75-4755-4a84-81af-d3ed85543f6a",
   "metadata": {},
   "outputs": [
    {
     "name": "stdout",
     "output_type": "stream",
     "text": [
      "<class 'pandas.core.frame.DataFrame'>\n",
      "RangeIndex: 5847 entries, 0 to 5846\n",
      "Data columns (total 13 columns):\n",
      " #   Column                         Non-Null Count  Dtype \n",
      "---  ------                         --------------  ----- \n",
      " 0   Station                        5847 non-null   object\n",
      " 1   Year                           5847 non-null   int64 \n",
      " 2   Month                          5847 non-null   int64 \n",
      " 3   Day                            5847 non-null   int64 \n",
      " 4   Daily Rainfall Total (mm)      5847 non-null   object\n",
      " 5   Highest 30 min Rainfall (mm)   5847 non-null   object\n",
      " 6   Highest 60 min Rainfall (mm)   5847 non-null   object\n",
      " 7   Highest 120 min Rainfall (mm)  5847 non-null   object\n",
      " 8   Mean Temperature (°C)          5847 non-null   object\n",
      " 9   Maximum Temperature (°C)       5847 non-null   object\n",
      " 10  Minimum Temperature (°C)       5847 non-null   object\n",
      " 11  Mean Wind Speed (km/h)         5847 non-null   object\n",
      " 12  Max Wind Speed (km/h)          5847 non-null   object\n",
      "dtypes: int64(3), object(10)\n",
      "memory usage: 594.0+ KB\n"
     ]
    }
   ],
   "source": [
    "file = \"[v2]2210 Data.csv\"\n",
    "df = pd.read_csv(file, encoding=\"utf-8\")\n",
    "# replacing - with 0 since some columns have - for numerous rows\n",
    "df = df.replace('-',0)\n",
    "\n",
    "# print df\n",
    "# to see what columns there are and how many rows\n",
    "df.info()"
   ]
  },
  {
   "cell_type": "markdown",
   "id": "e692e213-d3a7-4752-872f-d2a8082e4413",
   "metadata": {},
   "source": [
    "## Converting obj columns to float"
   ]
  },
  {
   "cell_type": "code",
   "execution_count": 34,
   "id": "44cecba0-7ed5-437b-a0c2-8010072722d1",
   "metadata": {},
   "outputs": [
    {
     "name": "stdout",
     "output_type": "stream",
     "text": [
      "['Station', 'Year', 'Month', 'Day', 'Daily Rainfall Total (mm)', 'Highest 30 min Rainfall (mm)', 'Highest 60 min Rainfall (mm)', 'Highest 120 min Rainfall (mm)', 'Mean Temperature (°C)', 'Maximum Temperature (°C)', 'Minimum Temperature (°C)', 'Mean Wind Speed (km/h)', 'Max Wind Speed (km/h)']\n"
     ]
    },
    {
     "data": {
      "text/plain": [
       "Station                           object\n",
       "Year                               int64\n",
       "Month                              int64\n",
       "Day                                int64\n",
       "Daily Rainfall Total (mm)        float64\n",
       "Highest 30 min Rainfall (mm)     float64\n",
       "Highest 60 min Rainfall (mm)     float64\n",
       "Highest 120 min Rainfall (mm)    float64\n",
       "Mean Temperature (°C)            float64\n",
       "Maximum Temperature (°C)         float64\n",
       "Minimum Temperature (°C)         float64\n",
       "Mean Wind Speed (km/h)           float64\n",
       "Max Wind Speed (km/h)            float64\n",
       "dtype: object"
      ]
     },
     "execution_count": 34,
     "metadata": {},
     "output_type": "execute_result"
    }
   ],
   "source": [
    "my_list = list(df)\n",
    "print(my_list)\n",
    "for col in my_list[4:]:\n",
    "    df[col] = pd.to_numeric(df[col], errors='coerce')\n",
    "df.dtypes"
   ]
  },
  {
   "cell_type": "markdown",
   "id": "a6f06841-deef-4abb-b03f-c3f9bbb2ac7b",
   "metadata": {
    "tags": []
   },
   "source": [
    "## What is the maximum rainfall windspeed etc.?\n",
    "Not doing minimum due to missing values so there will be a lot of 0s"
   ]
  },
  {
   "cell_type": "code",
   "execution_count": 71,
   "id": "a6de4681-32a3-4b97-a4d9-7577d5fe0ae9",
   "metadata": {},
   "outputs": [
    {
     "name": "stdout",
     "output_type": "stream",
     "text": [
      "MAX: Daily Rainfall Total (mm)\n"
     ]
    },
    {
     "data": {
      "text/plain": [
       "Station                          Changi\n",
       "Year                               2021\n",
       "Month                                 1\n",
       "Day                                   2\n",
       "Daily Rainfall Total (mm)         210.6\n",
       "Highest 30 min Rainfall (mm)       23.6\n",
       "Highest 60 min Rainfall (mm)       40.2\n",
       "Highest 120 min Rainfall (mm)      61.6\n",
       "Mean Temperature (°C)              23.1\n",
       "Maximum Temperature (°C)           24.1\n",
       "Minimum Temperature (°C)           21.7\n",
       "Mean Wind Speed (km/h)              7.9\n",
       "Max Wind Speed (km/h)              37.0\n",
       "Name: 1098, dtype: object"
      ]
     },
     "metadata": {},
     "output_type": "display_data"
    },
    {
     "name": "stdout",
     "output_type": "stream",
     "text": [
      "\n",
      "MAX: Highest 30 min Rainfall (mm)\n"
     ]
    },
    {
     "data": {
      "text/plain": [
       "Station                          Tuas South\n",
       "Year                                   2021\n",
       "Month                                     4\n",
       "Day                                      30\n",
       "Daily Rainfall Total (mm)             104.2\n",
       "Highest 30 min Rainfall (mm)           67.0\n",
       "Highest 60 min Rainfall (mm)           88.2\n",
       "Highest 120 min Rainfall (mm)         103.4\n",
       "Mean Temperature (°C)                  27.7\n",
       "Maximum Temperature (°C)               30.6\n",
       "Minimum Temperature (°C)               23.5\n",
       "Mean Wind Speed (km/h)                 10.2\n",
       "Max Wind Speed (km/h)                  58.0\n",
       "Name: 2678, dtype: object"
      ]
     },
     "metadata": {},
     "output_type": "display_data"
    },
    {
     "name": "stdout",
     "output_type": "stream",
     "text": [
      "\n",
      "MAX: Highest 60 min Rainfall (mm)\n"
     ]
    },
    {
     "data": {
      "text/plain": [
       "Station                          Tai Seng\n",
       "Year                                 2020\n",
       "Month                                  11\n",
       "Day                                     2\n",
       "Daily Rainfall Total (mm)           131.4\n",
       "Highest 30 min Rainfall (mm)         61.8\n",
       "Highest 60 min Rainfall (mm)        102.6\n",
       "Highest 120 min Rainfall (mm)       111.6\n",
       "Mean Temperature (°C)                27.3\n",
       "Maximum Temperature (°C)             33.1\n",
       "Minimum Temperature (°C)             22.7\n",
       "Mean Wind Speed (km/h)               13.6\n",
       "Max Wind Speed (km/h)                53.0\n",
       "Name: 4692, dtype: object"
      ]
     },
     "metadata": {},
     "output_type": "display_data"
    },
    {
     "name": "stdout",
     "output_type": "stream",
     "text": [
      "\n",
      "MAX: Highest 120 min Rainfall (mm)\n"
     ]
    },
    {
     "data": {
      "text/plain": [
       "Station                          Tuas South\n",
       "Year                                   2020\n",
       "Month                                     9\n",
       "Day                                      10\n",
       "Daily Rainfall Total (mm)             129.6\n",
       "Highest 30 min Rainfall (mm)           45.6\n",
       "Highest 60 min Rainfall (mm)           80.0\n",
       "Highest 120 min Rainfall (mm)         122.8\n",
       "Mean Temperature (°C)                  26.8\n",
       "Maximum Temperature (°C)               28.7\n",
       "Minimum Temperature (°C)               23.6\n",
       "Mean Wind Speed (km/h)                 11.1\n",
       "Max Wind Speed (km/h)                  44.3\n",
       "Name: 2446, dtype: object"
      ]
     },
     "metadata": {},
     "output_type": "display_data"
    },
    {
     "name": "stdout",
     "output_type": "stream",
     "text": [
      "\n",
      "MAX: Mean Temperature (°C)\n"
     ]
    },
    {
     "data": {
      "text/plain": [
       "Station                          Sentosa Island\n",
       "Year                                       2021\n",
       "Month                                         4\n",
       "Day                                           1\n",
       "Daily Rainfall Total (mm)                   0.0\n",
       "Highest 30 min Rainfall (mm)                0.0\n",
       "Highest 60 min Rainfall (mm)                0.0\n",
       "Highest 120 min Rainfall (mm)               0.0\n",
       "Mean Temperature (°C)                      31.1\n",
       "Maximum Temperature (°C)                   33.7\n",
       "Minimum Temperature (°C)                   28.9\n",
       "Mean Wind Speed (km/h)                      8.9\n",
       "Max Wind Speed (km/h)                      36.7\n",
       "Name: 1918, dtype: object"
      ]
     },
     "metadata": {},
     "output_type": "display_data"
    },
    {
     "name": "stdout",
     "output_type": "stream",
     "text": [
      "\n",
      "MAX: Maximum Temperature (°C)\n"
     ]
    },
    {
     "data": {
      "text/plain": [
       "Station                          Sentosa Island\n",
       "Year                                       2020\n",
       "Month                                        12\n",
       "Day                                           2\n",
       "Daily Rainfall Total (mm)                  10.4\n",
       "Highest 30 min Rainfall (mm)                7.4\n",
       "Highest 60 min Rainfall (mm)               10.4\n",
       "Highest 120 min Rainfall (mm)              10.4\n",
       "Mean Temperature (°C)                      29.2\n",
       "Maximum Temperature (°C)                   38.0\n",
       "Minimum Temperature (°C)                   23.4\n",
       "Mean Wind Speed (km/h)                      4.0\n",
       "Max Wind Speed (km/h)                      37.4\n",
       "Name: 1798, dtype: object"
      ]
     },
     "metadata": {},
     "output_type": "display_data"
    },
    {
     "name": "stdout",
     "output_type": "stream",
     "text": [
      "\n",
      "MAX: Minimum Temperature (°C)\n"
     ]
    },
    {
     "data": {
      "text/plain": [
       "Station                          Tuas South\n",
       "Year                                   2020\n",
       "Month                                     5\n",
       "Day                                      16\n",
       "Daily Rainfall Total (mm)               0.0\n",
       "Highest 30 min Rainfall (mm)            0.0\n",
       "Highest 60 min Rainfall (mm)            0.0\n",
       "Highest 120 min Rainfall (mm)           0.0\n",
       "Mean Temperature (°C)                  30.3\n",
       "Maximum Temperature (°C)               32.8\n",
       "Minimum Temperature (°C)               29.2\n",
       "Mean Wind Speed (km/h)                  4.8\n",
       "Max Wind Speed (km/h)                  25.6\n",
       "Name: 2329, dtype: object"
      ]
     },
     "metadata": {},
     "output_type": "display_data"
    },
    {
     "name": "stdout",
     "output_type": "stream",
     "text": [
      "\n",
      "MAX: Mean Wind Speed (km/h)\n"
     ]
    },
    {
     "data": {
      "text/plain": [
       "Station                          Admiralty\n",
       "Year                                  2021\n",
       "Month                                    1\n",
       "Day                                     18\n",
       "Daily Rainfall Total (mm)              0.0\n",
       "Highest 30 min Rainfall (mm)           0.0\n",
       "Highest 60 min Rainfall (mm)           0.0\n",
       "Highest 120 min Rainfall (mm)          0.0\n",
       "Mean Temperature (°C)                 26.0\n",
       "Maximum Temperature (°C)              28.3\n",
       "Minimum Temperature (°C)              24.5\n",
       "Mean Wind Speed (km/h)                28.8\n",
       "Max Wind Speed (km/h)                 68.3\n",
       "Name: 383, dtype: object"
      ]
     },
     "metadata": {},
     "output_type": "display_data"
    },
    {
     "name": "stdout",
     "output_type": "stream",
     "text": [
      "\n",
      "MAX: Max Wind Speed (km/h)\n"
     ]
    },
    {
     "data": {
      "text/plain": [
       "Station                          Newton\n",
       "Year                               2021\n",
       "Month                                11\n",
       "Day                                  10\n",
       "Daily Rainfall Total (mm)          32.6\n",
       "Highest 30 min Rainfall (mm)       14.2\n",
       "Highest 60 min Rainfall (mm)       20.4\n",
       "Highest 120 min Rainfall (mm)      29.0\n",
       "Mean Temperature (°C)              25.4\n",
       "Maximum Temperature (°C)           27.9\n",
       "Minimum Temperature (°C)           23.5\n",
       "Mean Wind Speed (km/h)              9.2\n",
       "Max Wind Speed (km/h)              86.7\n",
       "Name: 5796, dtype: object"
      ]
     },
     "metadata": {},
     "output_type": "display_data"
    },
    {
     "name": "stdout",
     "output_type": "stream",
     "text": [
      "\n"
     ]
    }
   ],
   "source": [
    "for col in my_list[4:]:\n",
    "    print(\"MAX: \" + col)\n",
    "    display(df.iloc[df[col].idxmax()])\n",
    "    print(\"\")"
   ]
  },
  {
   "cell_type": "code",
   "execution_count": 70,
   "id": "67f53bf7-3633-4858-8069-54b14af1ed6d",
   "metadata": {},
   "outputs": [
    {
     "name": "stdout",
     "output_type": "stream",
     "text": [
      "Min Daily Rainfall Total (mm)\n"
     ]
    },
    {
     "data": {
      "text/plain": [
       "Station                          Admiralty\n",
       "Year                                  2020\n",
       "Month                                    1\n",
       "Day                                      1\n",
       "Daily Rainfall Total (mm)              0.0\n",
       "Highest 30 min Rainfall (mm)           0.0\n",
       "Highest 60 min Rainfall (mm)           0.0\n",
       "Highest 120 min Rainfall (mm)          0.0\n",
       "Mean Temperature (°C)                 27.5\n",
       "Maximum Temperature (°C)              31.1\n",
       "Minimum Temperature (°C)              25.4\n",
       "Mean Wind Speed (km/h)                22.0\n",
       "Max Wind Speed (km/h)                 56.5\n",
       "Name: 0, dtype: object"
      ]
     },
     "metadata": {},
     "output_type": "display_data"
    },
    {
     "name": "stdout",
     "output_type": "stream",
     "text": [
      "\n",
      "Min Highest 30 min Rainfall (mm)\n"
     ]
    },
    {
     "data": {
      "text/plain": [
       "Station                          Admiralty\n",
       "Year                                  2020\n",
       "Month                                    1\n",
       "Day                                      1\n",
       "Daily Rainfall Total (mm)              0.0\n",
       "Highest 30 min Rainfall (mm)           0.0\n",
       "Highest 60 min Rainfall (mm)           0.0\n",
       "Highest 120 min Rainfall (mm)          0.0\n",
       "Mean Temperature (°C)                 27.5\n",
       "Maximum Temperature (°C)              31.1\n",
       "Minimum Temperature (°C)              25.4\n",
       "Mean Wind Speed (km/h)                22.0\n",
       "Max Wind Speed (km/h)                 56.5\n",
       "Name: 0, dtype: object"
      ]
     },
     "metadata": {},
     "output_type": "display_data"
    },
    {
     "name": "stdout",
     "output_type": "stream",
     "text": [
      "\n",
      "Min Highest 60 min Rainfall (mm)\n"
     ]
    },
    {
     "data": {
      "text/plain": [
       "Station                          Admiralty\n",
       "Year                                  2020\n",
       "Month                                    1\n",
       "Day                                      1\n",
       "Daily Rainfall Total (mm)              0.0\n",
       "Highest 30 min Rainfall (mm)           0.0\n",
       "Highest 60 min Rainfall (mm)           0.0\n",
       "Highest 120 min Rainfall (mm)          0.0\n",
       "Mean Temperature (°C)                 27.5\n",
       "Maximum Temperature (°C)              31.1\n",
       "Minimum Temperature (°C)              25.4\n",
       "Mean Wind Speed (km/h)                22.0\n",
       "Max Wind Speed (km/h)                 56.5\n",
       "Name: 0, dtype: object"
      ]
     },
     "metadata": {},
     "output_type": "display_data"
    },
    {
     "name": "stdout",
     "output_type": "stream",
     "text": [
      "\n",
      "Min Highest 120 min Rainfall (mm)\n"
     ]
    },
    {
     "data": {
      "text/plain": [
       "Station                          Admiralty\n",
       "Year                                  2020\n",
       "Month                                    1\n",
       "Day                                      1\n",
       "Daily Rainfall Total (mm)              0.0\n",
       "Highest 30 min Rainfall (mm)           0.0\n",
       "Highest 60 min Rainfall (mm)           0.0\n",
       "Highest 120 min Rainfall (mm)          0.0\n",
       "Mean Temperature (°C)                 27.5\n",
       "Maximum Temperature (°C)              31.1\n",
       "Minimum Temperature (°C)              25.4\n",
       "Mean Wind Speed (km/h)                22.0\n",
       "Max Wind Speed (km/h)                 56.5\n",
       "Name: 0, dtype: object"
      ]
     },
     "metadata": {},
     "output_type": "display_data"
    },
    {
     "name": "stdout",
     "output_type": "stream",
     "text": [
      "\n",
      "Min Mean Temperature (°C)\n"
     ]
    },
    {
     "data": {
      "text/plain": [
       "Station                          Admiralty\n",
       "Year                                  2020\n",
       "Month                                   12\n",
       "Day                                     19\n",
       "Daily Rainfall Total (mm)              0.0\n",
       "Highest 30 min Rainfall (mm)           0.0\n",
       "Highest 60 min Rainfall (mm)           0.0\n",
       "Highest 120 min Rainfall (mm)          0.0\n",
       "Mean Temperature (°C)                  0.0\n",
       "Maximum Temperature (°C)               0.0\n",
       "Minimum Temperature (°C)               0.0\n",
       "Mean Wind Speed (km/h)                 0.0\n",
       "Max Wind Speed (km/h)                  0.0\n",
       "Name: 353, dtype: object"
      ]
     },
     "metadata": {},
     "output_type": "display_data"
    },
    {
     "name": "stdout",
     "output_type": "stream",
     "text": [
      "\n",
      "Min Maximum Temperature (°C)\n"
     ]
    },
    {
     "data": {
      "text/plain": [
       "Station                          Admiralty\n",
       "Year                                  2020\n",
       "Month                                   12\n",
       "Day                                     19\n",
       "Daily Rainfall Total (mm)              0.0\n",
       "Highest 30 min Rainfall (mm)           0.0\n",
       "Highest 60 min Rainfall (mm)           0.0\n",
       "Highest 120 min Rainfall (mm)          0.0\n",
       "Mean Temperature (°C)                  0.0\n",
       "Maximum Temperature (°C)               0.0\n",
       "Minimum Temperature (°C)               0.0\n",
       "Mean Wind Speed (km/h)                 0.0\n",
       "Max Wind Speed (km/h)                  0.0\n",
       "Name: 353, dtype: object"
      ]
     },
     "metadata": {},
     "output_type": "display_data"
    },
    {
     "name": "stdout",
     "output_type": "stream",
     "text": [
      "\n",
      "Min Minimum Temperature (°C)\n"
     ]
    },
    {
     "data": {
      "text/plain": [
       "Station                          Admiralty\n",
       "Year                                  2020\n",
       "Month                                   12\n",
       "Day                                     19\n",
       "Daily Rainfall Total (mm)              0.0\n",
       "Highest 30 min Rainfall (mm)           0.0\n",
       "Highest 60 min Rainfall (mm)           0.0\n",
       "Highest 120 min Rainfall (mm)          0.0\n",
       "Mean Temperature (°C)                  0.0\n",
       "Maximum Temperature (°C)               0.0\n",
       "Minimum Temperature (°C)               0.0\n",
       "Mean Wind Speed (km/h)                 0.0\n",
       "Max Wind Speed (km/h)                  0.0\n",
       "Name: 353, dtype: object"
      ]
     },
     "metadata": {},
     "output_type": "display_data"
    },
    {
     "name": "stdout",
     "output_type": "stream",
     "text": [
      "\n",
      "Min Mean Wind Speed (km/h)\n"
     ]
    },
    {
     "data": {
      "text/plain": [
       "Station                          Admiralty\n",
       "Year                                  2020\n",
       "Month                                    4\n",
       "Day                                      7\n",
       "Daily Rainfall Total (mm)             30.0\n",
       "Highest 30 min Rainfall (mm)          14.8\n",
       "Highest 60 min Rainfall (mm)          17.2\n",
       "Highest 120 min Rainfall (mm)         24.8\n",
       "Mean Temperature (°C)                 27.4\n",
       "Maximum Temperature (°C)              31.8\n",
       "Minimum Temperature (°C)              23.1\n",
       "Mean Wind Speed (km/h)                 0.0\n",
       "Max Wind Speed (km/h)                 33.2\n",
       "Name: 97, dtype: object"
      ]
     },
     "metadata": {},
     "output_type": "display_data"
    },
    {
     "name": "stdout",
     "output_type": "stream",
     "text": [
      "\n",
      "Min Max Wind Speed (km/h)\n"
     ]
    },
    {
     "data": {
      "text/plain": [
       "Station                          Admiralty\n",
       "Year                                  2020\n",
       "Month                                   12\n",
       "Day                                     19\n",
       "Daily Rainfall Total (mm)              0.0\n",
       "Highest 30 min Rainfall (mm)           0.0\n",
       "Highest 60 min Rainfall (mm)           0.0\n",
       "Highest 120 min Rainfall (mm)          0.0\n",
       "Mean Temperature (°C)                  0.0\n",
       "Maximum Temperature (°C)               0.0\n",
       "Minimum Temperature (°C)               0.0\n",
       "Mean Wind Speed (km/h)                 0.0\n",
       "Max Wind Speed (km/h)                  0.0\n",
       "Name: 353, dtype: object"
      ]
     },
     "metadata": {},
     "output_type": "display_data"
    },
    {
     "name": "stdout",
     "output_type": "stream",
     "text": [
      "\n"
     ]
    }
   ],
   "source": [
    "for col in my_list[4:]:\n",
    "    print(\"Min \" + col)\n",
    "    display(df.iloc[df[col].idxmin()])\n",
    "    print(\"\")"
   ]
  },
  {
   "cell_type": "code",
   "execution_count": 86,
   "id": "da564cb0-1a70-4a4a-997e-584cfb42329c",
   "metadata": {},
   "outputs": [
    {
     "name": "stdout",
     "output_type": "stream",
     "text": [
      "MEDIAN: Daily Rainfall Total (mm)\n"
     ]
    },
    {
     "data": {
      "text/plain": [
       "Year\n",
       "2020    0.2\n",
       "2021    0.2\n",
       "Name: Daily Rainfall Total (mm), dtype: float64"
      ]
     },
     "metadata": {},
     "output_type": "display_data"
    },
    {
     "name": "stdout",
     "output_type": "stream",
     "text": [
      "\n",
      "MEDIAN: Highest 30 min Rainfall (mm)\n"
     ]
    },
    {
     "data": {
      "text/plain": [
       "Year\n",
       "2020    0.2\n",
       "2021    0.2\n",
       "Name: Highest 30 min Rainfall (mm), dtype: float64"
      ]
     },
     "metadata": {},
     "output_type": "display_data"
    },
    {
     "name": "stdout",
     "output_type": "stream",
     "text": [
      "\n",
      "MEDIAN: Highest 60 min Rainfall (mm)\n"
     ]
    },
    {
     "data": {
      "text/plain": [
       "Year\n",
       "2020    0.2\n",
       "2021    0.2\n",
       "Name: Highest 60 min Rainfall (mm), dtype: float64"
      ]
     },
     "metadata": {},
     "output_type": "display_data"
    },
    {
     "name": "stdout",
     "output_type": "stream",
     "text": [
      "\n",
      "MEDIAN: Highest 120 min Rainfall (mm)\n"
     ]
    },
    {
     "data": {
      "text/plain": [
       "Year\n",
       "2020    0.2\n",
       "2021    0.2\n",
       "Name: Highest 120 min Rainfall (mm), dtype: float64"
      ]
     },
     "metadata": {},
     "output_type": "display_data"
    },
    {
     "name": "stdout",
     "output_type": "stream",
     "text": [
      "\n",
      "MEDIAN: Mean Temperature (°C)\n"
     ]
    },
    {
     "data": {
      "text/plain": [
       "Year\n",
       "2020    28.1\n",
       "2021    27.9\n",
       "Name: Mean Temperature (°C), dtype: float64"
      ]
     },
     "metadata": {},
     "output_type": "display_data"
    },
    {
     "name": "stdout",
     "output_type": "stream",
     "text": [
      "\n",
      "MEDIAN: Maximum Temperature (°C)\n"
     ]
    },
    {
     "data": {
      "text/plain": [
       "Year\n",
       "2020    32.0\n",
       "2021    32.0\n",
       "Name: Maximum Temperature (°C), dtype: float64"
      ]
     },
     "metadata": {},
     "output_type": "display_data"
    },
    {
     "name": "stdout",
     "output_type": "stream",
     "text": [
      "\n",
      "MEDIAN: Minimum Temperature (°C)\n"
     ]
    },
    {
     "data": {
      "text/plain": [
       "Year\n",
       "2020    25.4\n",
       "2021    25.1\n",
       "Name: Minimum Temperature (°C), dtype: float64"
      ]
     },
     "metadata": {},
     "output_type": "display_data"
    },
    {
     "name": "stdout",
     "output_type": "stream",
     "text": [
      "\n",
      "MEDIAN: Mean Wind Speed (km/h)\n"
     ]
    },
    {
     "data": {
      "text/plain": [
       "Year\n",
       "2020    8.7\n",
       "2021    7.4\n",
       "Name: Mean Wind Speed (km/h), dtype: float64"
      ]
     },
     "metadata": {},
     "output_type": "display_data"
    },
    {
     "name": "stdout",
     "output_type": "stream",
     "text": [
      "\n",
      "MEDIAN: Max Wind Speed (km/h)\n"
     ]
    },
    {
     "data": {
      "text/plain": [
       "Year\n",
       "2020    32.8\n",
       "2021    31.7\n",
       "Name: Max Wind Speed (km/h), dtype: float64"
      ]
     },
     "metadata": {},
     "output_type": "display_data"
    },
    {
     "name": "stdout",
     "output_type": "stream",
     "text": [
      "\n"
     ]
    }
   ],
   "source": [
    "for col in my_list[4:]:\n",
    "    print(\"MEDIAN: \" + col)\n",
    "    display(df.groupby(['Year'])[col].median())\n",
    "    print(\"\")"
   ]
  },
  {
   "cell_type": "code",
   "execution_count": 83,
   "id": "6a1c73da-53f3-460f-af8d-24adc9e945ba",
   "metadata": {},
   "outputs": [
    {
     "name": "stdout",
     "output_type": "stream",
     "text": [
      "AVERAGE: Daily Rainfall Total (mm)\n"
     ]
    },
    {
     "data": {
      "text/plain": [
       "Year\n",
       "2020    6.629928\n",
       "2021    7.991264\n",
       "Name: Daily Rainfall Total (mm), dtype: float64"
      ]
     },
     "metadata": {},
     "output_type": "display_data"
    },
    {
     "name": "stdout",
     "output_type": "stream",
     "text": [
      "\n",
      "AVERAGE: Highest 30 min Rainfall (mm)\n"
     ]
    },
    {
     "data": {
      "text/plain": [
       "Year\n",
       "2020    3.857260\n",
       "2021    4.285749\n",
       "Name: Highest 30 min Rainfall (mm), dtype: float64"
      ]
     },
     "metadata": {},
     "output_type": "display_data"
    },
    {
     "name": "stdout",
     "output_type": "stream",
     "text": [
      "\n",
      "AVERAGE: Highest 60 min Rainfall (mm)\n"
     ]
    },
    {
     "data": {
      "text/plain": [
       "Year\n",
       "2020    4.836420\n",
       "2021    5.405755\n",
       "Name: Highest 60 min Rainfall (mm), dtype: float64"
      ]
     },
     "metadata": {},
     "output_type": "display_data"
    },
    {
     "name": "stdout",
     "output_type": "stream",
     "text": [
      "\n",
      "AVERAGE: Highest 120 min Rainfall (mm)\n"
     ]
    },
    {
     "data": {
      "text/plain": [
       "Year\n",
       "2020    5.569047\n",
       "2021    6.219767\n",
       "Name: Highest 120 min Rainfall (mm), dtype: float64"
      ]
     },
     "metadata": {},
     "output_type": "display_data"
    },
    {
     "name": "stdout",
     "output_type": "stream",
     "text": [
      "\n",
      "AVERAGE: Mean Temperature (°C)\n"
     ]
    },
    {
     "data": {
      "text/plain": [
       "Year\n",
       "2020    27.173123\n",
       "2021    27.368962\n",
       "Name: Mean Temperature (°C), dtype: float64"
      ]
     },
     "metadata": {},
     "output_type": "display_data"
    },
    {
     "name": "stdout",
     "output_type": "stream",
     "text": [
      "\n",
      "AVERAGE: Maximum Temperature (°C)\n"
     ]
    },
    {
     "data": {
      "text/plain": [
       "Year\n",
       "2020    30.855103\n",
       "2021    31.107160\n",
       "Name: Maximum Temperature (°C), dtype: float64"
      ]
     },
     "metadata": {},
     "output_type": "display_data"
    },
    {
     "name": "stdout",
     "output_type": "stream",
     "text": [
      "\n",
      "AVERAGE: Minimum Temperature (°C)\n"
     ]
    },
    {
     "data": {
      "text/plain": [
       "Year\n",
       "2020    24.686199\n",
       "2021    24.787427\n",
       "Name: Minimum Temperature (°C), dtype: float64"
      ]
     },
     "metadata": {},
     "output_type": "display_data"
    },
    {
     "name": "stdout",
     "output_type": "stream",
     "text": [
      "\n",
      "AVERAGE: Mean Wind Speed (km/h)\n"
     ]
    },
    {
     "data": {
      "text/plain": [
       "Year\n",
       "2020    9.134096\n",
       "2021    8.452312\n",
       "Name: Mean Wind Speed (km/h), dtype: float64"
      ]
     },
     "metadata": {},
     "output_type": "display_data"
    },
    {
     "name": "stdout",
     "output_type": "stream",
     "text": [
      "\n",
      "AVERAGE: Max Wind Speed (km/h)\n"
     ]
    },
    {
     "data": {
      "text/plain": [
       "Year\n",
       "2020    31.997506\n",
       "2021    32.258822\n",
       "Name: Max Wind Speed (km/h), dtype: float64"
      ]
     },
     "metadata": {},
     "output_type": "display_data"
    },
    {
     "name": "stdout",
     "output_type": "stream",
     "text": [
      "\n"
     ]
    }
   ],
   "source": [
    "for col in my_list[4:]:\n",
    "    print(\"AVERAGE: \" + col)\n",
    "    display(df.groupby(['Year'])[col].mean())\n",
    "    print(\"\")"
   ]
  },
  {
   "cell_type": "markdown",
   "id": "e5a5f8b9-f4f8-4b98-9728-c20476783ec1",
   "metadata": {},
   "source": [
    "From the average data, we can tell that there's been an increase of 1°C in Maximum Tempature. There is also a small increase in mean and minimum temperature, showing that it is getting hotter in Singapore.\n",
    "It is likely that it feels hotter as well as there is a dip in Mean Wind Speed as well."
   ]
  }
 ],
 "metadata": {
  "kernelspec": {
   "display_name": "my-venv",
   "language": "python",
   "name": "my-venv"
  },
  "language_info": {
   "codemirror_mode": {
    "name": "ipython",
    "version": 3
   },
   "file_extension": ".py",
   "mimetype": "text/x-python",
   "name": "python",
   "nbconvert_exporter": "python",
   "pygments_lexer": "ipython3",
   "version": "3.9.11"
  }
 },
 "nbformat": 4,
 "nbformat_minor": 5
}
